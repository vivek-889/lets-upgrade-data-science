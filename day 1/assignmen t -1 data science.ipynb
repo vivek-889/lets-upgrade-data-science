{
 "cells": [
  {
   "cell_type": "markdown",
   "metadata": {},
   "source": [
    "# Question -1"
   ]
  },
  {
   "cell_type": "markdown",
   "metadata": {},
   "source": [
    "Given the following jumbled word, OBANWRI guess the correct English word."
   ]
  },
  {
   "cell_type": "code",
   "execution_count": 6,
   "metadata": {
    "scrolled": true
   },
   "outputs": [
    {
     "name": "stdout",
     "output_type": "stream",
     "text": [
      "Given the following jumbled word, OBANWRI \n",
      "\n",
      "Guess the correct English word from the options given bellow! \n",
      "A. RANIBOW \n",
      "B. RAINBOW \n",
      "C. BOWRANI \n",
      "D. ROBWANI\n",
      "Enter any one of the options:(in caps only)\n",
      "RAINBOW\n",
      "RAINBOW\n"
     ]
    }
   ],
   "source": [
    "print(\"Given the following jumbled word, OBANWRI \\n\\nGuess the correct English word from the options given bellow! \\nA. RANIBOW \\nB. RAINBOW \\nC. BOWRANI \\nD. ROBWANI\")\n",
    "guessed_word = input(\"Enter any one of the options:(in caps only)\\n\")\n",
    "answer = \"RAINBOW\"\n",
    "jumbled_word = \"OBANWRI\"\n",
    "if guessed_word == answer:\n",
    "    print(answer)\n",
    "else:\n",
    "    print(\"Wrong answer\")"
   ]
  },
  {
   "cell_type": "markdown",
   "metadata": {},
   "source": [
    "# Question-2"
   ]
  },
  {
   "cell_type": "markdown",
   "metadata": {},
   "source": [
    "Write a program which prints “LETS UPGRADE”. (Please note that you have to\n",
    "print in ALL CAPS as given)"
   ]
  },
  {
   "cell_type": "code",
   "execution_count": 8,
   "metadata": {
    "scrolled": true
   },
   "outputs": [
    {
     "name": "stdout",
     "output_type": "stream",
     "text": [
      "LETS UPGRADE\n"
     ]
    }
   ],
   "source": [
    "a=\"LETS UPGRADE\"\n",
    "print(a)"
   ]
  },
  {
   "cell_type": "markdown",
   "metadata": {},
   "source": [
    "# Question-3"
   ]
  },
  {
   "cell_type": "markdown",
   "metadata": {},
   "source": [
    "Write a program that takes cost price and selling price as input and displays whether the transaction is a\n",
    "Profit or a Loss or Neither.\n",
    "INPUT FORMAT\n",
    "The first line contains the cost price.\n",
    "The second line contains the selling price.\n",
    "OUTPUT FORMAT\n",
    "Print \"Profit\" if the transaction is a profit or \"Loss\" if it is a loss. If it is neither\n",
    "profit nor loss, print \"Neither\"."
   ]
  },
  {
   "cell_type": "code",
   "execution_count": 21,
   "metadata": {},
   "outputs": [
    {
     "name": "stdout",
     "output_type": "stream",
     "text": [
      "cost price:6\n",
      "selling price:4\n",
      "loss\n"
     ]
    }
   ],
   "source": [
    "x=input(\"cost price:\")\n",
    "y=input('selling price:')\n",
    "\n",
    "if x<y:\n",
    "    print(\"profit\")\n",
    "elif x>y:\n",
    "    print(\"loss\")\n",
    "else:\n",
    "    print(\"neither\")"
   ]
  },
  {
   "cell_type": "markdown",
   "metadata": {},
   "source": [
    "# Question-4"
   ]
  },
  {
   "cell_type": "markdown",
   "metadata": {},
   "source": [
    "Write a program that takes an amount in Euros as input. You need to find its equivalent in\n",
    "Rupees and display it. Assume 1 Euro equals Rs. 80."
   ]
  },
  {
   "cell_type": "code",
   "execution_count": 22,
   "metadata": {
    "scrolled": true
   },
   "outputs": [
    {
     "name": "stdout",
     "output_type": "stream",
     "text": [
      "100\n",
      "8000\n"
     ]
    }
   ],
   "source": [
    "Euros_amount=int(input())\n",
    "RS_amount=Euros_amount*80\n",
    "print(RS_amount)"
   ]
  }
 ],
 "metadata": {
  "kernelspec": {
   "display_name": "Python 3",
   "language": "python",
   "name": "python3"
  },
  "language_info": {
   "codemirror_mode": {
    "name": "ipython",
    "version": 3
   },
   "file_extension": ".py",
   "mimetype": "text/x-python",
   "name": "python",
   "nbconvert_exporter": "python",
   "pygments_lexer": "ipython3",
   "version": "3.7.6"
  }
 },
 "nbformat": 4,
 "nbformat_minor": 4
}
