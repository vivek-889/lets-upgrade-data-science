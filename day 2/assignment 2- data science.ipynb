{
 "cells": [
  {
   "cell_type": "markdown",
   "metadata": {},
   "source": [
    "# Question-1"
   ]
  },
  {
   "cell_type": "markdown",
   "metadata": {},
   "source": [
    "Create an empty list. Accept 10 numbers from the user and append to it the list if it is an even number."
   ]
  },
  {
   "cell_type": "code",
   "execution_count": 4,
   "metadata": {
    "scrolled": true
   },
   "outputs": [
    {
     "name": "stdout",
     "output_type": "stream",
     "text": [
      "Enter number 1 : 2\n",
      "Enter number 2 : 3\n",
      "Enter number 3 : 6\n",
      "Enter number 4 : 8\n",
      "Enter number 5 : 55\n",
      "Enter number 6 : 44\n",
      "Enter number 7 : 68\n",
      "Enter number 8 : 90\n",
      "Enter number 9 : 46\n",
      "Enter number 10 : 60\n",
      " \n",
      "Final List:\n",
      "[2, 6, 8, 44, 68, 90, 46, 60]\n"
     ]
    }
   ],
   "source": [
    "my_list = []\n",
    "for i in range(10):\n",
    "    num = int(input(\"Enter number \" + str(i+1) + \" : \"))\n",
    "    if(num%2 == 0):\n",
    "        my_list.append(num)\n",
    "print(\" \")       \n",
    "print(\"Final List:\")\n",
    "print(my_list)"
   ]
  },
  {
   "cell_type": "markdown",
   "metadata": {},
   "source": [
    "# Question-2"
   ]
  },
  {
   "cell_type": "markdown",
   "metadata": {},
   "source": [
    "Create a notebook on LIST COMPREHENSION. This exercise is to put you in a Self learning mode"
   ]
  },
  {
   "cell_type": "code",
   "execution_count": null,
   "metadata": {},
   "outputs": [],
   "source": [
    "\n"
   ]
  },
  {
   "cell_type": "markdown",
   "metadata": {},
   "source": [
    "# Question-3"
   ]
  },
  {
   "cell_type": "markdown",
   "metadata": {},
   "source": [
    "You have seen in the videos how powerful dictionary data structure is.\n",
    "In this assignment, given a number n, you have to write a program that generates a dictionary d which\n",
    "contains (i, i*i), where i is from 1 to n (both included).\n",
    "Then you have to just print this dictionary d."
   ]
  },
  {
   "cell_type": "code",
   "execution_count": null,
   "metadata": {
    "scrolled": true
   },
   "outputs": [],
   "source": [
    "num=int(input())\n",
    "dictionary ={i:i*i for i in range(1,num+1)}\n",
    "print(dictionary)"
   ]
  },
  {
   "cell_type": "markdown",
   "metadata": {},
   "source": [
    "# Question-4"
   ]
  },
  {
   "cell_type": "markdown",
   "metadata": {},
   "source": [
    "There is a robot which wants to go the charging point to charge itself.\n",
    "The robot moves in a 2-D plane from the original point (0,0). The robot can\n",
    "move toward UP, DOWN, LEFT and RIGHT with given steps.\n",
    "The trace of robot movement is shown as the following:\n",
    "UP 5\n",
    "DOWN 3\n",
    "LEFT 3\n",
    "RIGHT 2\n",
    "Then, the output of the program should be:\n",
    "2\n",
    "The numbers after the direction are steps.\n",
    "Write a program to compute the distance between the current position after\n",
    "a sequence of movement and original point. If the distance is a float, then\n",
    "just print the nearest integer (use round() function for that and then convert\n",
    "it into an integer).\n",
    "Input Format:\n",
    "The first line of the input contains a number n which implies the number of\n",
    "directions to be given.\n",
    "The next n lines contain the direction and the step separated by a space.\n",
    "Output Format:\n",
    "Print the distance from the original position to the current position.\n",
    "Example:\n",
    "Input:\n",
    "4\n",
    "UP 5\n",
    "DOWN 3\n",
    "LEFT 3\n",
    "RIGHT 2\n",
    "Output:\n",
    "2"
   ]
  },
  {
   "cell_type": "code",
   "execution_count": null,
   "metadata": {},
   "outputs": [],
   "source": [
    " pos = {\n",
    "    \"x\": 0, \n",
    "    \"y\": 0\n",
    "}\n",
    "z=int(input())\n",
    "c=0\n",
    "while (c!=z):\n",
    "\n",
    "    n = input()\n",
    "    c=c+1\n",
    "    if not n:\n",
    "        break\n",
    "\n",
    "    direction,steps=n.split()\n",
    "    if direction == \"UP\":\n",
    "        pos[\"y\"] += int(steps)\n",
    "    elif direction == \"DOWN\":\n",
    "        pos[\"y\"] -= int(steps)\n",
    "    elif direction == \"LEFT\":\n",
    "        pos[\"x\"] -= int(steps)\n",
    "    elif direction == \"RIGHT\":\n",
    "        pos[\"x\"] += int(steps)\n",
    "print (int(round((pos[\"x\"]**2 + pos[\"y\"]**2)**0.5)))"
   ]
  }
 ],
 "metadata": {
  "kernelspec": {
   "display_name": "Python 3",
   "language": "python",
   "name": "python3"
  },
  "language_info": {
   "codemirror_mode": {
    "name": "ipython",
    "version": 3
   },
   "file_extension": ".py",
   "mimetype": "text/x-python",
   "name": "python",
   "nbconvert_exporter": "python",
   "pygments_lexer": "ipython3",
   "version": "3.7.6"
  }
 },
 "nbformat": 4,
 "nbformat_minor": 4
}
